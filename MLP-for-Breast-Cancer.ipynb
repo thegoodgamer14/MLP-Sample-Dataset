{
 "cells": [
  {
   "cell_type": "code",
   "execution_count": 34,
   "id": "a6010016",
   "metadata": {},
   "outputs": [],
   "source": [
    "import numpy as np\n",
    "from sklearn.datasets import load_breast_cancer\n",
    "from sklearn.model_selection import train_test_split\n",
    "from sklearn.preprocessing import StandardScaler\n",
    "from sklearn.neural_network import MLPClassifier\n",
    "from sklearn.metrics import accuracy_score, precision_score, recall_score, f1_score, r2_score"
   ]
  },
  {
   "cell_type": "code",
   "execution_count": 35,
   "id": "f03513d9",
   "metadata": {},
   "outputs": [
    {
     "name": "stdout",
     "output_type": "stream",
     "text": [
      "['mean radius' 'mean texture' 'mean perimeter' 'mean area'\n",
      " 'mean smoothness' 'mean compactness' 'mean concavity'\n",
      " 'mean concave points' 'mean symmetry' 'mean fractal dimension'\n",
      " 'radius error' 'texture error' 'perimeter error' 'area error'\n",
      " 'smoothness error' 'compactness error' 'concavity error'\n",
      " 'concave points error' 'symmetry error' 'fractal dimension error'\n",
      " 'worst radius' 'worst texture' 'worst perimeter' 'worst area'\n",
      " 'worst smoothness' 'worst compactness' 'worst concavity'\n",
      " 'worst concave points' 'worst symmetry' 'worst fractal dimension']\n",
      "['malignant' 'benign']\n"
     ]
    }
   ],
   "source": [
    "breast_cancer = load_breast_cancer()\n",
    "X = breast_cancer.data\n",
    "y = breast_cancer.target\n",
    "\n",
    "print(breast_cancer.feature_names)\n",
    "print(breast_cancer.target_names)\n",
    "\n",
    "X_train, X_test, y_train, y_test = train_test_split(X, y, test_size=0.3, random_state=42)"
   ]
  },
  {
   "cell_type": "code",
   "execution_count": 36,
   "id": "4e4e8ece",
   "metadata": {},
   "outputs": [],
   "source": [
    "scaler = StandardScaler()\n",
    "X_train = scaler.fit_transform(X_train)\n",
    "X_test = scaler.transform(X_test)"
   ]
  },
  {
   "cell_type": "code",
   "execution_count": 47,
   "id": "1c55f08f",
   "metadata": {},
   "outputs": [],
   "source": [
    "def train_and_evaluate(hidden_layer_sizes=(2,), learning_rate_init=0.001, activation='relu'):\n",
    "    mlp = MLPClassifier(hidden_layer_sizes=hidden_layer_sizes, learning_rate_init=learning_rate_init,\n",
    "                        activation=activation, max_iter=1000, random_state=42)\n",
    "    mlp.fit(X_train, y_train)\n",
    "    y_pred = mlp.predict(X_test)\n",
    "    \n",
    "    accuracy = accuracy_score(y_test, y_pred)\n",
    "    precision = precision_score(y_test, y_pred, average='weighted')\n",
    "    recall = recall_score(y_test, y_pred, average='weighted')\n",
    "    f1 = f1_score(y_test, y_pred, average='weighted')\n",
    "    r2 = r2_score(y_test, mlp.predict_proba(X_test).argmax(axis=1))\n",
    "    \n",
    "    print(f\"Hidden layers: {hidden_layer_sizes}, Learning rate: {learning_rate_init}, Activation: {activation}\")\n",
    "    print(f\"Accuracy: {accuracy:.4f}\")\n",
    "    print(f\"Precision: {precision:.4f}\")\n",
    "    print(f\"Recall: {recall:.4f}\")\n",
    "    print(f\"F1-score: {f1:.4f}\")\n",
    "    print(f\"R-squared: {r2:.4f}\\n\")"
   ]
  },
  {
   "cell_type": "code",
   "execution_count": 48,
   "id": "8c453eb5",
   "metadata": {},
   "outputs": [
    {
     "name": "stdout",
     "output_type": "stream",
     "text": [
      "Default parameters:\n",
      "Hidden layers: (2,), Learning rate: 0.001, Activation: relu\n",
      "Accuracy: 0.9883\n",
      "Precision: 0.9883\n",
      "Recall: 0.9883\n",
      "F1-score: 0.9883\n",
      "R-squared: 0.9497\n",
      "\n"
     ]
    }
   ],
   "source": [
    "print(\"Default parameters:\")\n",
    "train_and_evaluate()"
   ]
  },
  {
   "cell_type": "code",
   "execution_count": 49,
   "id": "47cb4d16",
   "metadata": {},
   "outputs": [
    {
     "name": "stdout",
     "output_type": "stream",
     "text": [
      "Experimenting with different learning rates:\n",
      "Hidden layers: (2,), Learning rate: 0.01, Activation: relu\n",
      "Accuracy: 0.9883\n",
      "Precision: 0.9883\n",
      "Recall: 0.9883\n",
      "F1-score: 0.9883\n",
      "R-squared: 0.9497\n",
      "\n",
      "Hidden layers: (2,), Learning rate: 0.05, Activation: relu\n",
      "Accuracy: 0.9825\n",
      "Precision: 0.9826\n",
      "Recall: 0.9825\n",
      "F1-score: 0.9825\n",
      "R-squared: 0.9246\n",
      "\n",
      "Hidden layers: (2,), Learning rate: 0.1, Activation: relu\n",
      "Accuracy: 0.9766\n",
      "Precision: 0.9767\n",
      "Recall: 0.9766\n",
      "F1-score: 0.9765\n",
      "R-squared: 0.8995\n",
      "\n"
     ]
    }
   ],
   "source": [
    "print(\"Experimenting with different learning rates:\")\n",
    "for lr in [0.01, 0.05, 0.1]:\n",
    "    train_and_evaluate(learning_rate_init=lr)"
   ]
  },
  {
   "cell_type": "code",
   "execution_count": 50,
   "id": "5c5f89de",
   "metadata": {},
   "outputs": [
    {
     "name": "stdout",
     "output_type": "stream",
     "text": [
      "Experimenting with different hidden layer sizes:\n",
      "Hidden layers: (2,), Learning rate: 0.001, Activation: relu\n",
      "Accuracy: 0.9883\n",
      "Precision: 0.9883\n",
      "Recall: 0.9883\n",
      "F1-score: 0.9883\n",
      "R-squared: 0.9497\n",
      "\n"
     ]
    },
    {
     "name": "stderr",
     "output_type": "stream",
     "text": [
      "C:\\Users\\HP\\anaconda3\\lib\\site-packages\\sklearn\\neural_network\\_multilayer_perceptron.py:692: ConvergenceWarning: Stochastic Optimizer: Maximum iterations (1000) reached and the optimization hasn't converged yet.\n",
      "  warnings.warn(\n"
     ]
    },
    {
     "name": "stdout",
     "output_type": "stream",
     "text": [
      "Hidden layers: (4, 2), Learning rate: 0.001, Activation: relu\n",
      "Accuracy: 0.9708\n",
      "Precision: 0.9717\n",
      "Recall: 0.9708\n",
      "F1-score: 0.9709\n",
      "R-squared: 0.8743\n",
      "\n",
      "Hidden layers: (6, 4, 2), Learning rate: 0.001, Activation: relu\n",
      "Accuracy: 0.9708\n",
      "Precision: 0.9717\n",
      "Recall: 0.9708\n",
      "F1-score: 0.9709\n",
      "R-squared: 0.8743\n",
      "\n"
     ]
    }
   ],
   "source": [
    "print(\"Experimenting with different hidden layer sizes:\")\n",
    "for layers in [(2,), (4, 2), (6, 4, 2)]:\n",
    "    train_and_evaluate(hidden_layer_sizes=layers)"
   ]
  },
  {
   "cell_type": "code",
   "execution_count": 51,
   "id": "fa36e2fe",
   "metadata": {},
   "outputs": [
    {
     "name": "stdout",
     "output_type": "stream",
     "text": [
      "Experimenting with different activation functions:\n",
      "Hidden layers: (2,), Learning rate: 0.001, Activation: identity\n",
      "Accuracy: 0.9825\n",
      "Precision: 0.9825\n",
      "Recall: 0.9825\n",
      "F1-score: 0.9824\n",
      "R-squared: 0.9246\n",
      "\n"
     ]
    },
    {
     "name": "stderr",
     "output_type": "stream",
     "text": [
      "C:\\Users\\HP\\anaconda3\\lib\\site-packages\\sklearn\\neural_network\\_multilayer_perceptron.py:692: ConvergenceWarning: Stochastic Optimizer: Maximum iterations (1000) reached and the optimization hasn't converged yet.\n",
      "  warnings.warn(\n"
     ]
    },
    {
     "name": "stdout",
     "output_type": "stream",
     "text": [
      "Hidden layers: (2,), Learning rate: 0.001, Activation: logistic\n",
      "Accuracy: 0.9883\n",
      "Precision: 0.9883\n",
      "Recall: 0.9883\n",
      "F1-score: 0.9883\n",
      "R-squared: 0.9497\n",
      "\n",
      "Hidden layers: (2,), Learning rate: 0.001, Activation: tanh\n",
      "Accuracy: 0.9825\n",
      "Precision: 0.9826\n",
      "Recall: 0.9825\n",
      "F1-score: 0.9825\n",
      "R-squared: 0.9246\n",
      "\n"
     ]
    }
   ],
   "source": [
    "print(\"Experimenting with different activation functions:\")\n",
    "for activation in ['identity', 'logistic', 'tanh']:\n",
    "    train_and_evaluate(activation=activation)"
   ]
  },
  {
   "cell_type": "code",
   "execution_count": null,
   "id": "c22e2ba7",
   "metadata": {},
   "outputs": [],
   "source": []
  }
 ],
 "metadata": {
  "kernelspec": {
   "display_name": "Python 3 (ipykernel)",
   "language": "python",
   "name": "python3"
  },
  "language_info": {
   "codemirror_mode": {
    "name": "ipython",
    "version": 3
   },
   "file_extension": ".py",
   "mimetype": "text/x-python",
   "name": "python",
   "nbconvert_exporter": "python",
   "pygments_lexer": "ipython3",
   "version": "3.9.12"
  }
 },
 "nbformat": 4,
 "nbformat_minor": 5
}
